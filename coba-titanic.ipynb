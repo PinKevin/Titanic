{
 "cells": [
  {
   "cell_type": "markdown",
   "id": "29513f1a",
   "metadata": {
    "papermill": {
     "duration": 0.008072,
     "end_time": "2023-11-25T01:54:31.637124",
     "exception": false,
     "start_time": "2023-11-25T01:54:31.629052",
     "status": "completed"
    },
    "tags": []
   },
   "source": [
    "# Impor modul"
   ]
  },
  {
   "cell_type": "code",
   "execution_count": 1,
   "id": "97ea2410",
   "metadata": {
    "execution": {
     "iopub.execute_input": "2023-11-25T01:54:31.656221Z",
     "iopub.status.busy": "2023-11-25T01:54:31.655609Z",
     "iopub.status.idle": "2023-11-25T01:54:47.240965Z",
     "shell.execute_reply": "2023-11-25T01:54:47.239818Z"
    },
    "papermill": {
     "duration": 15.598628,
     "end_time": "2023-11-25T01:54:47.243472",
     "exception": false,
     "start_time": "2023-11-25T01:54:31.644844",
     "status": "completed"
    },
    "tags": []
   },
   "outputs": [
    {
     "name": "stdout",
     "output_type": "stream",
     "text": [
      "Collecting pydotplus\r\n",
      "  Downloading pydotplus-2.0.2.tar.gz (278 kB)\r\n",
      "\u001b[2K     \u001b[90m━━━━━━━━━━━━━━━━━━━━━━━━━━━━━━━━━━━━━━\u001b[0m \u001b[32m278.7/278.7 kB\u001b[0m \u001b[31m11.4 MB/s\u001b[0m eta \u001b[36m0:00:00\u001b[0m\r\n",
      "\u001b[?25h  Preparing metadata (setup.py) ... \u001b[?25l-\b \bdone\r\n",
      "\u001b[?25hRequirement already satisfied: pyparsing>=2.0.1 in /opt/conda/lib/python3.10/site-packages (from pydotplus) (3.0.9)\r\n",
      "Building wheels for collected packages: pydotplus\r\n",
      "  Building wheel for pydotplus (setup.py) ... \u001b[?25l-\b \b\\\b \bdone\r\n",
      "\u001b[?25h  Created wheel for pydotplus: filename=pydotplus-2.0.2-py3-none-any.whl size=24552 sha256=140d86d3fafdcd6e1e4e5aaecc7c725a141068f190be7e3f5014285d233681a1\r\n",
      "  Stored in directory: /root/.cache/pip/wheels/69/b2/67/08f0eef649af92df772c09f451558298e07fab1bc7cdf33db0\r\n",
      "Successfully built pydotplus\r\n",
      "Installing collected packages: pydotplus\r\n",
      "Successfully installed pydotplus-2.0.2\r\n"
     ]
    }
   ],
   "source": [
    "import numpy as np\n",
    "import pandas as pd\n",
    "import matplotlib.pyplot as plt\n",
    "import seaborn as sns\n",
    "import warnings\n",
    "import scipy\n",
    "from sklearn.model_selection import train_test_split\n",
    "from sklearn.preprocessing import MinMaxScaler\n",
    "from sklearn import tree\n",
    "warnings.filterwarnings('ignore')\n",
    "import graphviz\n",
    "from IPython.display import Image  \n",
    "from subprocess import call\n",
    "from sklearn.metrics import accuracy_score\n",
    "!pip install pydotplus\n",
    "import pydotplus\n",
    "from six import StringIO"
   ]
  },
  {
   "cell_type": "markdown",
   "id": "f5116962",
   "metadata": {
    "papermill": {
     "duration": 0.008089,
     "end_time": "2023-11-25T01:54:47.260114",
     "exception": false,
     "start_time": "2023-11-25T01:54:47.252025",
     "status": "completed"
    },
    "tags": []
   },
   "source": [
    "# Data Preprocessing"
   ]
  },
  {
   "cell_type": "markdown",
   "id": "65f0b1aa",
   "metadata": {
    "papermill": {
     "duration": 0.007915,
     "end_time": "2023-11-25T01:54:47.276395",
     "exception": false,
     "start_time": "2023-11-25T01:54:47.268480",
     "status": "completed"
    },
    "tags": []
   },
   "source": [
    "Impor data"
   ]
  },
  {
   "cell_type": "code",
   "execution_count": 2,
   "id": "5e11ddda",
   "metadata": {
    "execution": {
     "iopub.execute_input": "2023-11-25T01:54:47.294916Z",
     "iopub.status.busy": "2023-11-25T01:54:47.294257Z",
     "iopub.status.idle": "2023-11-25T01:54:47.335837Z",
     "shell.execute_reply": "2023-11-25T01:54:47.334902Z"
    },
    "papermill": {
     "duration": 0.053424,
     "end_time": "2023-11-25T01:54:47.338047",
     "exception": false,
     "start_time": "2023-11-25T01:54:47.284623",
     "status": "completed"
    },
    "tags": []
   },
   "outputs": [],
   "source": [
    "train_path = '/kaggle/input/2023-tragedi-titanic/train.csv'\n",
    "test_path = '/kaggle/input/2023-tragedi-titanic/test.csv'\n",
    "\n",
    "train = pd.read_csv(train_path)\n",
    "test = pd.read_csv(test_path)"
   ]
  },
  {
   "cell_type": "code",
   "execution_count": 3,
   "id": "8f70aa56",
   "metadata": {
    "execution": {
     "iopub.execute_input": "2023-11-25T01:54:47.356688Z",
     "iopub.status.busy": "2023-11-25T01:54:47.355993Z",
     "iopub.status.idle": "2023-11-25T01:54:47.379267Z",
     "shell.execute_reply": "2023-11-25T01:54:47.378185Z"
    },
    "papermill": {
     "duration": 0.034579,
     "end_time": "2023-11-25T01:54:47.381113",
     "exception": false,
     "start_time": "2023-11-25T01:54:47.346534",
     "status": "completed"
    },
    "tags": []
   },
   "outputs": [
    {
     "data": {
      "text/html": [
       "<div>\n",
       "<style scoped>\n",
       "    .dataframe tbody tr th:only-of-type {\n",
       "        vertical-align: middle;\n",
       "    }\n",
       "\n",
       "    .dataframe tbody tr th {\n",
       "        vertical-align: top;\n",
       "    }\n",
       "\n",
       "    .dataframe thead th {\n",
       "        text-align: right;\n",
       "    }\n",
       "</style>\n",
       "<table border=\"1\" class=\"dataframe\">\n",
       "  <thead>\n",
       "    <tr style=\"text-align: right;\">\n",
       "      <th></th>\n",
       "      <th>ID</th>\n",
       "      <th>pclass</th>\n",
       "      <th>survived</th>\n",
       "      <th>sex</th>\n",
       "      <th>age</th>\n",
       "      <th>sibsp</th>\n",
       "      <th>parch</th>\n",
       "      <th>fare</th>\n",
       "      <th>cabin</th>\n",
       "      <th>embarked</th>\n",
       "      <th>boat</th>\n",
       "      <th>body</th>\n",
       "      <th>home.dest</th>\n",
       "    </tr>\n",
       "  </thead>\n",
       "  <tbody>\n",
       "    <tr>\n",
       "      <th>0</th>\n",
       "      <td>401</td>\n",
       "      <td>3</td>\n",
       "      <td>0</td>\n",
       "      <td>male</td>\n",
       "      <td>NaN</td>\n",
       "      <td>0</td>\n",
       "      <td>0</td>\n",
       "      <td>8.0500</td>\n",
       "      <td>NaN</td>\n",
       "      <td>S</td>\n",
       "      <td>NaN</td>\n",
       "      <td>NaN</td>\n",
       "      <td>NaN</td>\n",
       "    </tr>\n",
       "    <tr>\n",
       "      <th>1</th>\n",
       "      <td>402</td>\n",
       "      <td>3</td>\n",
       "      <td>1</td>\n",
       "      <td>female</td>\n",
       "      <td>22.0</td>\n",
       "      <td>1</td>\n",
       "      <td>0</td>\n",
       "      <td>13.9000</td>\n",
       "      <td>NaN</td>\n",
       "      <td>S</td>\n",
       "      <td>16</td>\n",
       "      <td>NaN</td>\n",
       "      <td>West Haven, CT</td>\n",
       "    </tr>\n",
       "    <tr>\n",
       "      <th>2</th>\n",
       "      <td>403</td>\n",
       "      <td>3</td>\n",
       "      <td>0</td>\n",
       "      <td>male</td>\n",
       "      <td>NaN</td>\n",
       "      <td>0</td>\n",
       "      <td>0</td>\n",
       "      <td>7.3125</td>\n",
       "      <td>NaN</td>\n",
       "      <td>S</td>\n",
       "      <td>NaN</td>\n",
       "      <td>NaN</td>\n",
       "      <td>NaN</td>\n",
       "    </tr>\n",
       "    <tr>\n",
       "      <th>3</th>\n",
       "      <td>404</td>\n",
       "      <td>3</td>\n",
       "      <td>0</td>\n",
       "      <td>male</td>\n",
       "      <td>28.0</td>\n",
       "      <td>2</td>\n",
       "      <td>0</td>\n",
       "      <td>7.9250</td>\n",
       "      <td>NaN</td>\n",
       "      <td>S</td>\n",
       "      <td>NaN</td>\n",
       "      <td>NaN</td>\n",
       "      <td>Ruotsinphytaa, Finland New York, NY</td>\n",
       "    </tr>\n",
       "    <tr>\n",
       "      <th>4</th>\n",
       "      <td>405</td>\n",
       "      <td>3</td>\n",
       "      <td>0</td>\n",
       "      <td>male</td>\n",
       "      <td>NaN</td>\n",
       "      <td>0</td>\n",
       "      <td>0</td>\n",
       "      <td>6.8583</td>\n",
       "      <td>NaN</td>\n",
       "      <td>Q</td>\n",
       "      <td>NaN</td>\n",
       "      <td>NaN</td>\n",
       "      <td>NaN</td>\n",
       "    </tr>\n",
       "  </tbody>\n",
       "</table>\n",
       "</div>"
      ],
      "text/plain": [
       "    ID  pclass  survived     sex   age  sibsp  parch     fare cabin embarked  \\\n",
       "0  401       3         0    male   NaN      0      0   8.0500   NaN        S   \n",
       "1  402       3         1  female  22.0      1      0  13.9000   NaN        S   \n",
       "2  403       3         0    male   NaN      0      0   7.3125   NaN        S   \n",
       "3  404       3         0    male  28.0      2      0   7.9250   NaN        S   \n",
       "4  405       3         0    male   NaN      0      0   6.8583   NaN        Q   \n",
       "\n",
       "  boat  body                            home.dest  \n",
       "0  NaN   NaN                                  NaN  \n",
       "1   16   NaN                       West Haven, CT  \n",
       "2  NaN   NaN                                  NaN  \n",
       "3  NaN   NaN  Ruotsinphytaa, Finland New York, NY  \n",
       "4  NaN   NaN                                  NaN  "
      ]
     },
     "execution_count": 3,
     "metadata": {},
     "output_type": "execute_result"
    }
   ],
   "source": [
    "train.head()"
   ]
  },
  {
   "cell_type": "code",
   "execution_count": 4,
   "id": "8a5a5819",
   "metadata": {
    "execution": {
     "iopub.execute_input": "2023-11-25T01:54:47.398913Z",
     "iopub.status.busy": "2023-11-25T01:54:47.398614Z",
     "iopub.status.idle": "2023-11-25T01:54:47.413355Z",
     "shell.execute_reply": "2023-11-25T01:54:47.411996Z"
    },
    "papermill": {
     "duration": 0.02592,
     "end_time": "2023-11-25T01:54:47.415409",
     "exception": false,
     "start_time": "2023-11-25T01:54:47.389489",
     "status": "completed"
    },
    "tags": []
   },
   "outputs": [
    {
     "data": {
      "text/html": [
       "<div>\n",
       "<style scoped>\n",
       "    .dataframe tbody tr th:only-of-type {\n",
       "        vertical-align: middle;\n",
       "    }\n",
       "\n",
       "    .dataframe tbody tr th {\n",
       "        vertical-align: top;\n",
       "    }\n",
       "\n",
       "    .dataframe thead th {\n",
       "        text-align: right;\n",
       "    }\n",
       "</style>\n",
       "<table border=\"1\" class=\"dataframe\">\n",
       "  <thead>\n",
       "    <tr style=\"text-align: right;\">\n",
       "      <th></th>\n",
       "      <th>ID</th>\n",
       "      <th>pclass</th>\n",
       "      <th>sex</th>\n",
       "      <th>age</th>\n",
       "      <th>sibsp</th>\n",
       "      <th>parch</th>\n",
       "      <th>fare</th>\n",
       "      <th>cabin</th>\n",
       "      <th>embarked</th>\n",
       "      <th>boat</th>\n",
       "      <th>body</th>\n",
       "      <th>home.dest</th>\n",
       "    </tr>\n",
       "  </thead>\n",
       "  <tbody>\n",
       "    <tr>\n",
       "      <th>0</th>\n",
       "      <td>1</td>\n",
       "      <td>1</td>\n",
       "      <td>female</td>\n",
       "      <td>45.0</td>\n",
       "      <td>0</td>\n",
       "      <td>1</td>\n",
       "      <td>63.3583</td>\n",
       "      <td>D10 D12</td>\n",
       "      <td>C</td>\n",
       "      <td>7</td>\n",
       "      <td>NaN</td>\n",
       "      <td>New York, NY</td>\n",
       "    </tr>\n",
       "    <tr>\n",
       "      <th>1</th>\n",
       "      <td>2</td>\n",
       "      <td>3</td>\n",
       "      <td>male</td>\n",
       "      <td>51.0</td>\n",
       "      <td>0</td>\n",
       "      <td>0</td>\n",
       "      <td>7.7500</td>\n",
       "      <td>NaN</td>\n",
       "      <td>S</td>\n",
       "      <td>NaN</td>\n",
       "      <td>NaN</td>\n",
       "      <td>NaN</td>\n",
       "    </tr>\n",
       "    <tr>\n",
       "      <th>2</th>\n",
       "      <td>3</td>\n",
       "      <td>2</td>\n",
       "      <td>female</td>\n",
       "      <td>28.0</td>\n",
       "      <td>1</td>\n",
       "      <td>0</td>\n",
       "      <td>24.0000</td>\n",
       "      <td>NaN</td>\n",
       "      <td>C</td>\n",
       "      <td>10</td>\n",
       "      <td>NaN</td>\n",
       "      <td>Russia New York, NY</td>\n",
       "    </tr>\n",
       "    <tr>\n",
       "      <th>3</th>\n",
       "      <td>4</td>\n",
       "      <td>3</td>\n",
       "      <td>female</td>\n",
       "      <td>NaN</td>\n",
       "      <td>1</td>\n",
       "      <td>0</td>\n",
       "      <td>24.1500</td>\n",
       "      <td>NaN</td>\n",
       "      <td>Q</td>\n",
       "      <td>16</td>\n",
       "      <td>NaN</td>\n",
       "      <td>NaN</td>\n",
       "    </tr>\n",
       "    <tr>\n",
       "      <th>4</th>\n",
       "      <td>5</td>\n",
       "      <td>3</td>\n",
       "      <td>male</td>\n",
       "      <td>NaN</td>\n",
       "      <td>0</td>\n",
       "      <td>0</td>\n",
       "      <td>7.7500</td>\n",
       "      <td>NaN</td>\n",
       "      <td>Q</td>\n",
       "      <td>NaN</td>\n",
       "      <td>NaN</td>\n",
       "      <td>NaN</td>\n",
       "    </tr>\n",
       "  </tbody>\n",
       "</table>\n",
       "</div>"
      ],
      "text/plain": [
       "   ID  pclass     sex   age  sibsp  parch     fare    cabin embarked boat  \\\n",
       "0   1       1  female  45.0      0      1  63.3583  D10 D12        C    7   \n",
       "1   2       3    male  51.0      0      0   7.7500      NaN        S  NaN   \n",
       "2   3       2  female  28.0      1      0  24.0000      NaN        C   10   \n",
       "3   4       3  female   NaN      1      0  24.1500      NaN        Q   16   \n",
       "4   5       3    male   NaN      0      0   7.7500      NaN        Q  NaN   \n",
       "\n",
       "   body            home.dest  \n",
       "0   NaN         New York, NY  \n",
       "1   NaN                  NaN  \n",
       "2   NaN  Russia New York, NY  \n",
       "3   NaN                  NaN  \n",
       "4   NaN                  NaN  "
      ]
     },
     "execution_count": 4,
     "metadata": {},
     "output_type": "execute_result"
    }
   ],
   "source": [
    "test.head()"
   ]
  },
  {
   "cell_type": "markdown",
   "id": "adaba912",
   "metadata": {
    "papermill": {
     "duration": 0.007883,
     "end_time": "2023-11-25T01:54:47.431689",
     "exception": false,
     "start_time": "2023-11-25T01:54:47.423806",
     "status": "completed"
    },
    "tags": []
   },
   "source": [
    "## Isi NULL"
   ]
  },
  {
   "cell_type": "markdown",
   "id": "8df8ca9f",
   "metadata": {
    "papermill": {
     "duration": 0.007925,
     "end_time": "2023-11-25T01:54:47.447850",
     "exception": false,
     "start_time": "2023-11-25T01:54:47.439925",
     "status": "completed"
    },
    "tags": []
   },
   "source": [
    "### Age"
   ]
  },
  {
   "cell_type": "code",
   "execution_count": 5,
   "id": "c40c76ab",
   "metadata": {
    "execution": {
     "iopub.execute_input": "2023-11-25T01:54:47.465845Z",
     "iopub.status.busy": "2023-11-25T01:54:47.465534Z",
     "iopub.status.idle": "2023-11-25T01:54:47.477990Z",
     "shell.execute_reply": "2023-11-25T01:54:47.476457Z"
    },
    "papermill": {
     "duration": 0.024458,
     "end_time": "2023-11-25T01:54:47.480505",
     "exception": false,
     "start_time": "2023-11-25T01:54:47.456047",
     "status": "completed"
    },
    "tags": []
   },
   "outputs": [
    {
     "data": {
      "text/plain": [
       "ID             0\n",
       "pclass         0\n",
       "survived       0\n",
       "sex            0\n",
       "age          192\n",
       "sibsp          0\n",
       "parch          0\n",
       "fare           1\n",
       "cabin        699\n",
       "embarked       2\n",
       "boat         583\n",
       "body         820\n",
       "home.dest    393\n",
       "dtype: int64"
      ]
     },
     "execution_count": 5,
     "metadata": {},
     "output_type": "execute_result"
    }
   ],
   "source": [
    "train.isnull().sum()"
   ]
  },
  {
   "cell_type": "code",
   "execution_count": 6,
   "id": "a8de7b78",
   "metadata": {
    "execution": {
     "iopub.execute_input": "2023-11-25T01:54:47.499792Z",
     "iopub.status.busy": "2023-11-25T01:54:47.499462Z",
     "iopub.status.idle": "2023-11-25T01:54:47.509016Z",
     "shell.execute_reply": "2023-11-25T01:54:47.507280Z"
    },
    "papermill": {
     "duration": 0.022072,
     "end_time": "2023-11-25T01:54:47.511681",
     "exception": false,
     "start_time": "2023-11-25T01:54:47.489609",
     "status": "completed"
    },
    "tags": []
   },
   "outputs": [
    {
     "data": {
      "text/plain": [
       "ID             0\n",
       "pclass         0\n",
       "sex            0\n",
       "age           71\n",
       "sibsp          0\n",
       "parch          0\n",
       "fare           0\n",
       "cabin        315\n",
       "embarked       0\n",
       "boat         240\n",
       "body         368\n",
       "home.dest    171\n",
       "dtype: int64"
      ]
     },
     "execution_count": 6,
     "metadata": {},
     "output_type": "execute_result"
    }
   ],
   "source": [
    "test.isnull().sum()"
   ]
  },
  {
   "cell_type": "code",
   "execution_count": 7,
   "id": "60fd3558",
   "metadata": {
    "execution": {
     "iopub.execute_input": "2023-11-25T01:54:47.532459Z",
     "iopub.status.busy": "2023-11-25T01:54:47.532094Z",
     "iopub.status.idle": "2023-11-25T01:54:47.585569Z",
     "shell.execute_reply": "2023-11-25T01:54:47.584145Z"
    },
    "papermill": {
     "duration": 0.066548,
     "end_time": "2023-11-25T01:54:47.587721",
     "exception": false,
     "start_time": "2023-11-25T01:54:47.521173",
     "status": "completed"
    },
    "tags": []
   },
   "outputs": [
    {
     "data": {
      "text/html": [
       "<div>\n",
       "<style scoped>\n",
       "    .dataframe tbody tr th:only-of-type {\n",
       "        vertical-align: middle;\n",
       "    }\n",
       "\n",
       "    .dataframe tbody tr th {\n",
       "        vertical-align: top;\n",
       "    }\n",
       "\n",
       "    .dataframe thead th {\n",
       "        text-align: right;\n",
       "    }\n",
       "</style>\n",
       "<table border=\"1\" class=\"dataframe\">\n",
       "  <thead>\n",
       "    <tr style=\"text-align: right;\">\n",
       "      <th></th>\n",
       "      <th>ID</th>\n",
       "      <th>pclass</th>\n",
       "      <th>survived</th>\n",
       "      <th>sex</th>\n",
       "      <th>age</th>\n",
       "      <th>sibsp</th>\n",
       "      <th>parch</th>\n",
       "      <th>fare</th>\n",
       "      <th>cabin</th>\n",
       "      <th>embarked</th>\n",
       "      <th>boat</th>\n",
       "      <th>body</th>\n",
       "      <th>home.dest</th>\n",
       "      <th>age_rand</th>\n",
       "    </tr>\n",
       "  </thead>\n",
       "  <tbody>\n",
       "    <tr>\n",
       "      <th>0</th>\n",
       "      <td>401</td>\n",
       "      <td>3</td>\n",
       "      <td>0</td>\n",
       "      <td>male</td>\n",
       "      <td>56</td>\n",
       "      <td>0</td>\n",
       "      <td>0</td>\n",
       "      <td>8.0500</td>\n",
       "      <td>NaN</td>\n",
       "      <td>S</td>\n",
       "      <td>NaN</td>\n",
       "      <td>NaN</td>\n",
       "      <td>NaN</td>\n",
       "      <td>56.05001</td>\n",
       "    </tr>\n",
       "    <tr>\n",
       "      <th>1</th>\n",
       "      <td>402</td>\n",
       "      <td>3</td>\n",
       "      <td>1</td>\n",
       "      <td>female</td>\n",
       "      <td>22</td>\n",
       "      <td>1</td>\n",
       "      <td>0</td>\n",
       "      <td>13.9000</td>\n",
       "      <td>NaN</td>\n",
       "      <td>S</td>\n",
       "      <td>16</td>\n",
       "      <td>NaN</td>\n",
       "      <td>West Haven, CT</td>\n",
       "      <td>18.79447</td>\n",
       "    </tr>\n",
       "    <tr>\n",
       "      <th>2</th>\n",
       "      <td>403</td>\n",
       "      <td>3</td>\n",
       "      <td>0</td>\n",
       "      <td>male</td>\n",
       "      <td>45</td>\n",
       "      <td>0</td>\n",
       "      <td>0</td>\n",
       "      <td>7.3125</td>\n",
       "      <td>NaN</td>\n",
       "      <td>S</td>\n",
       "      <td>NaN</td>\n",
       "      <td>NaN</td>\n",
       "      <td>NaN</td>\n",
       "      <td>45.40557</td>\n",
       "    </tr>\n",
       "    <tr>\n",
       "      <th>3</th>\n",
       "      <td>404</td>\n",
       "      <td>3</td>\n",
       "      <td>0</td>\n",
       "      <td>male</td>\n",
       "      <td>28</td>\n",
       "      <td>2</td>\n",
       "      <td>0</td>\n",
       "      <td>7.9250</td>\n",
       "      <td>NaN</td>\n",
       "      <td>S</td>\n",
       "      <td>NaN</td>\n",
       "      <td>NaN</td>\n",
       "      <td>Ruotsinphytaa, Finland New York, NY</td>\n",
       "      <td>24.11669</td>\n",
       "    </tr>\n",
       "    <tr>\n",
       "      <th>4</th>\n",
       "      <td>405</td>\n",
       "      <td>3</td>\n",
       "      <td>0</td>\n",
       "      <td>male</td>\n",
       "      <td>19</td>\n",
       "      <td>0</td>\n",
       "      <td>0</td>\n",
       "      <td>6.8583</td>\n",
       "      <td>NaN</td>\n",
       "      <td>Q</td>\n",
       "      <td>NaN</td>\n",
       "      <td>NaN</td>\n",
       "      <td>NaN</td>\n",
       "      <td>18.79447</td>\n",
       "    </tr>\n",
       "  </tbody>\n",
       "</table>\n",
       "</div>"
      ],
      "text/plain": [
       "    ID  pclass  survived     sex  age  sibsp  parch     fare cabin embarked  \\\n",
       "0  401       3         0    male   56      0      0   8.0500   NaN        S   \n",
       "1  402       3         1  female   22      1      0  13.9000   NaN        S   \n",
       "2  403       3         0    male   45      0      0   7.3125   NaN        S   \n",
       "3  404       3         0    male   28      2      0   7.9250   NaN        S   \n",
       "4  405       3         0    male   19      0      0   6.8583   NaN        Q   \n",
       "\n",
       "  boat  body                            home.dest  age_rand  \n",
       "0  NaN   NaN                                  NaN  56.05001  \n",
       "1   16   NaN                       West Haven, CT  18.79447  \n",
       "2  NaN   NaN                                  NaN  45.40557  \n",
       "3  NaN   NaN  Ruotsinphytaa, Finland New York, NY  24.11669  \n",
       "4  NaN   NaN                                  NaN  18.79447  "
      ]
     },
     "execution_count": 7,
     "metadata": {},
     "output_type": "execute_result"
    }
   ],
   "source": [
    "# Fill null in Age Train\n",
    "x = train['age'].dropna()\n",
    "hist, bins = np.histogram(x, bins=15)\n",
    "\n",
    "bin_centers = 0.5 * (bins[:len(bins) - 1] + bins[1:])\n",
    "probabilities = hist/hist.sum()\n",
    "\n",
    "# dictionary with random numbers from existing age distribution\n",
    "train['age_rand'] = train['age'].apply(lambda v: np.random.choice(bin_centers, p=probabilities))\n",
    "age_null_list = train[train['age'].isnull()].index\n",
    "train.loc[age_null_list,'age'] = train.loc[age_null_list,'age_rand']\n",
    "\n",
    "train['age'] = train['age'].round().astype(int)\n",
    "\n",
    "train.head()"
   ]
  },
  {
   "cell_type": "code",
   "execution_count": 8,
   "id": "8ba7137d",
   "metadata": {
    "execution": {
     "iopub.execute_input": "2023-11-25T01:54:47.607891Z",
     "iopub.status.busy": "2023-11-25T01:54:47.607071Z",
     "iopub.status.idle": "2023-11-25T01:54:47.647234Z",
     "shell.execute_reply": "2023-11-25T01:54:47.646220Z"
    },
    "papermill": {
     "duration": 0.052788,
     "end_time": "2023-11-25T01:54:47.649733",
     "exception": false,
     "start_time": "2023-11-25T01:54:47.596945",
     "status": "completed"
    },
    "tags": []
   },
   "outputs": [
    {
     "data": {
      "text/html": [
       "<div>\n",
       "<style scoped>\n",
       "    .dataframe tbody tr th:only-of-type {\n",
       "        vertical-align: middle;\n",
       "    }\n",
       "\n",
       "    .dataframe tbody tr th {\n",
       "        vertical-align: top;\n",
       "    }\n",
       "\n",
       "    .dataframe thead th {\n",
       "        text-align: right;\n",
       "    }\n",
       "</style>\n",
       "<table border=\"1\" class=\"dataframe\">\n",
       "  <thead>\n",
       "    <tr style=\"text-align: right;\">\n",
       "      <th></th>\n",
       "      <th>ID</th>\n",
       "      <th>pclass</th>\n",
       "      <th>sex</th>\n",
       "      <th>age</th>\n",
       "      <th>sibsp</th>\n",
       "      <th>parch</th>\n",
       "      <th>fare</th>\n",
       "      <th>cabin</th>\n",
       "      <th>embarked</th>\n",
       "      <th>boat</th>\n",
       "      <th>body</th>\n",
       "      <th>home.dest</th>\n",
       "      <th>age_rand</th>\n",
       "    </tr>\n",
       "  </thead>\n",
       "  <tbody>\n",
       "    <tr>\n",
       "      <th>0</th>\n",
       "      <td>1</td>\n",
       "      <td>1</td>\n",
       "      <td>female</td>\n",
       "      <td>45</td>\n",
       "      <td>0</td>\n",
       "      <td>1</td>\n",
       "      <td>63.3583</td>\n",
       "      <td>D10 D12</td>\n",
       "      <td>C</td>\n",
       "      <td>7</td>\n",
       "      <td>NaN</td>\n",
       "      <td>New York, NY</td>\n",
       "      <td>63.075000</td>\n",
       "    </tr>\n",
       "    <tr>\n",
       "      <th>1</th>\n",
       "      <td>2</td>\n",
       "      <td>3</td>\n",
       "      <td>male</td>\n",
       "      <td>51</td>\n",
       "      <td>0</td>\n",
       "      <td>0</td>\n",
       "      <td>7.7500</td>\n",
       "      <td>NaN</td>\n",
       "      <td>S</td>\n",
       "      <td>NaN</td>\n",
       "      <td>NaN</td>\n",
       "      <td>NaN</td>\n",
       "      <td>7.675000</td>\n",
       "    </tr>\n",
       "    <tr>\n",
       "      <th>2</th>\n",
       "      <td>3</td>\n",
       "      <td>2</td>\n",
       "      <td>female</td>\n",
       "      <td>28</td>\n",
       "      <td>1</td>\n",
       "      <td>0</td>\n",
       "      <td>24.0000</td>\n",
       "      <td>NaN</td>\n",
       "      <td>C</td>\n",
       "      <td>10</td>\n",
       "      <td>NaN</td>\n",
       "      <td>Russia New York, NY</td>\n",
       "      <td>35.375000</td>\n",
       "    </tr>\n",
       "    <tr>\n",
       "      <th>3</th>\n",
       "      <td>4</td>\n",
       "      <td>3</td>\n",
       "      <td>female</td>\n",
       "      <td>3</td>\n",
       "      <td>1</td>\n",
       "      <td>0</td>\n",
       "      <td>24.1500</td>\n",
       "      <td>NaN</td>\n",
       "      <td>Q</td>\n",
       "      <td>16</td>\n",
       "      <td>NaN</td>\n",
       "      <td>NaN</td>\n",
       "      <td>3.058333</td>\n",
       "    </tr>\n",
       "    <tr>\n",
       "      <th>4</th>\n",
       "      <td>5</td>\n",
       "      <td>3</td>\n",
       "      <td>male</td>\n",
       "      <td>40</td>\n",
       "      <td>0</td>\n",
       "      <td>0</td>\n",
       "      <td>7.7500</td>\n",
       "      <td>NaN</td>\n",
       "      <td>Q</td>\n",
       "      <td>NaN</td>\n",
       "      <td>NaN</td>\n",
       "      <td>NaN</td>\n",
       "      <td>39.991667</td>\n",
       "    </tr>\n",
       "  </tbody>\n",
       "</table>\n",
       "</div>"
      ],
      "text/plain": [
       "   ID  pclass     sex  age  sibsp  parch     fare    cabin embarked boat  \\\n",
       "0   1       1  female   45      0      1  63.3583  D10 D12        C    7   \n",
       "1   2       3    male   51      0      0   7.7500      NaN        S  NaN   \n",
       "2   3       2  female   28      1      0  24.0000      NaN        C   10   \n",
       "3   4       3  female    3      1      0  24.1500      NaN        Q   16   \n",
       "4   5       3    male   40      0      0   7.7500      NaN        Q  NaN   \n",
       "\n",
       "   body            home.dest   age_rand  \n",
       "0   NaN         New York, NY  63.075000  \n",
       "1   NaN                  NaN   7.675000  \n",
       "2   NaN  Russia New York, NY  35.375000  \n",
       "3   NaN                  NaN   3.058333  \n",
       "4   NaN                  NaN  39.991667  "
      ]
     },
     "execution_count": 8,
     "metadata": {},
     "output_type": "execute_result"
    }
   ],
   "source": [
    "# Fill null in Age Test\n",
    "x = test['age'].dropna()\n",
    "hist, bins = np.histogram(x, bins=15)\n",
    "\n",
    "bin_centers = 0.5 * (bins[:len(bins) - 1] + bins[1:])\n",
    "probabilities = hist/hist.sum()\n",
    "\n",
    "# dictionary with random numbers from existing age distribution\n",
    "test['age_rand'] = test['age'].apply(lambda v: np.random.choice(bin_centers, p=probabilities))\n",
    "age_null_list = test[test['age'].isnull()].index\n",
    "test.loc[age_null_list,'age'] = test.loc[age_null_list,'age_rand']\n",
    "\n",
    "test['age'] = test['age'].round().astype(int)\n",
    "\n",
    "test.head()"
   ]
  },
  {
   "cell_type": "markdown",
   "id": "3c235f35",
   "metadata": {
    "papermill": {
     "duration": 0.009516,
     "end_time": "2023-11-25T01:54:47.668441",
     "exception": false,
     "start_time": "2023-11-25T01:54:47.658925",
     "status": "completed"
    },
    "tags": []
   },
   "source": [
    "### Fare dan Embarked"
   ]
  },
  {
   "cell_type": "code",
   "execution_count": 9,
   "id": "4710d92c",
   "metadata": {
    "execution": {
     "iopub.execute_input": "2023-11-25T01:54:47.689629Z",
     "iopub.status.busy": "2023-11-25T01:54:47.688988Z",
     "iopub.status.idle": "2023-11-25T01:54:47.697788Z",
     "shell.execute_reply": "2023-11-25T01:54:47.696319Z"
    },
    "papermill": {
     "duration": 0.021371,
     "end_time": "2023-11-25T01:54:47.699750",
     "exception": false,
     "start_time": "2023-11-25T01:54:47.678379",
     "status": "completed"
    },
    "tags": []
   },
   "outputs": [
    {
     "data": {
      "text/plain": [
       "ID             0\n",
       "pclass         0\n",
       "survived       0\n",
       "sex            0\n",
       "age            0\n",
       "sibsp          0\n",
       "parch          0\n",
       "fare           1\n",
       "cabin        699\n",
       "embarked       2\n",
       "boat         583\n",
       "body         820\n",
       "home.dest    393\n",
       "age_rand       0\n",
       "dtype: int64"
      ]
     },
     "execution_count": 9,
     "metadata": {},
     "output_type": "execute_result"
    }
   ],
   "source": [
    "train.isnull().sum()"
   ]
  },
  {
   "cell_type": "code",
   "execution_count": 10,
   "id": "1ea13364",
   "metadata": {
    "execution": {
     "iopub.execute_input": "2023-11-25T01:54:47.721268Z",
     "iopub.status.busy": "2023-11-25T01:54:47.720900Z",
     "iopub.status.idle": "2023-11-25T01:54:47.729391Z",
     "shell.execute_reply": "2023-11-25T01:54:47.728451Z"
    },
    "papermill": {
     "duration": 0.020902,
     "end_time": "2023-11-25T01:54:47.730951",
     "exception": false,
     "start_time": "2023-11-25T01:54:47.710049",
     "status": "completed"
    },
    "tags": []
   },
   "outputs": [
    {
     "data": {
      "text/plain": [
       "ID             0\n",
       "pclass         0\n",
       "sex            0\n",
       "age            0\n",
       "sibsp          0\n",
       "parch          0\n",
       "fare           0\n",
       "cabin        315\n",
       "embarked       0\n",
       "boat         240\n",
       "body         368\n",
       "home.dest    171\n",
       "age_rand       0\n",
       "dtype: int64"
      ]
     },
     "execution_count": 10,
     "metadata": {},
     "output_type": "execute_result"
    }
   ],
   "source": [
    "test.isnull().sum()"
   ]
  },
  {
   "cell_type": "code",
   "execution_count": 11,
   "id": "e320d92b",
   "metadata": {
    "execution": {
     "iopub.execute_input": "2023-11-25T01:54:47.751864Z",
     "iopub.status.busy": "2023-11-25T01:54:47.751298Z",
     "iopub.status.idle": "2023-11-25T01:54:47.760778Z",
     "shell.execute_reply": "2023-11-25T01:54:47.760100Z"
    },
    "papermill": {
     "duration": 0.02255,
     "end_time": "2023-11-25T01:54:47.763167",
     "exception": false,
     "start_time": "2023-11-25T01:54:47.740617",
     "status": "completed"
    },
    "tags": []
   },
   "outputs": [
    {
     "name": "stdout",
     "output_type": "stream",
     "text": [
      "S\n"
     ]
    }
   ],
   "source": [
    "mode_embarked = train['embarked'].mode()[0]\n",
    "mean_fare = train['fare'].mean()\n",
    "\n",
    "train['embarked'].fillna(value=mode_embarked, inplace=True)\n",
    "train['fare'].fillna(value=mean_fare, inplace=True)\n",
    "\n",
    "print(mode_embarked)"
   ]
  },
  {
   "cell_type": "code",
   "execution_count": 12,
   "id": "dd71bae9",
   "metadata": {
    "execution": {
     "iopub.execute_input": "2023-11-25T01:54:47.784860Z",
     "iopub.status.busy": "2023-11-25T01:54:47.784230Z",
     "iopub.status.idle": "2023-11-25T01:54:47.791213Z",
     "shell.execute_reply": "2023-11-25T01:54:47.790622Z"
    },
    "papermill": {
     "duration": 0.020283,
     "end_time": "2023-11-25T01:54:47.793351",
     "exception": false,
     "start_time": "2023-11-25T01:54:47.773068",
     "status": "completed"
    },
    "tags": []
   },
   "outputs": [
    {
     "data": {
      "text/plain": [
       "ID             0\n",
       "pclass         0\n",
       "survived       0\n",
       "sex            0\n",
       "age            0\n",
       "sibsp          0\n",
       "parch          0\n",
       "fare           0\n",
       "cabin        699\n",
       "embarked       0\n",
       "boat         583\n",
       "body         820\n",
       "home.dest    393\n",
       "age_rand       0\n",
       "dtype: int64"
      ]
     },
     "execution_count": 12,
     "metadata": {},
     "output_type": "execute_result"
    }
   ],
   "source": [
    "train.isnull().sum()"
   ]
  },
  {
   "cell_type": "code",
   "execution_count": 13,
   "id": "0a967012",
   "metadata": {
    "execution": {
     "iopub.execute_input": "2023-11-25T01:54:47.816032Z",
     "iopub.status.busy": "2023-11-25T01:54:47.815401Z",
     "iopub.status.idle": "2023-11-25T01:54:47.822398Z",
     "shell.execute_reply": "2023-11-25T01:54:47.821308Z"
    },
    "papermill": {
     "duration": 0.020652,
     "end_time": "2023-11-25T01:54:47.824760",
     "exception": false,
     "start_time": "2023-11-25T01:54:47.804108",
     "status": "completed"
    },
    "tags": []
   },
   "outputs": [
    {
     "data": {
      "text/plain": [
       "ID             0\n",
       "pclass         0\n",
       "sex            0\n",
       "age            0\n",
       "sibsp          0\n",
       "parch          0\n",
       "fare           0\n",
       "cabin        315\n",
       "embarked       0\n",
       "boat         240\n",
       "body         368\n",
       "home.dest    171\n",
       "age_rand       0\n",
       "dtype: int64"
      ]
     },
     "execution_count": 13,
     "metadata": {},
     "output_type": "execute_result"
    }
   ],
   "source": [
    "test.isnull().sum()"
   ]
  },
  {
   "cell_type": "code",
   "execution_count": 14,
   "id": "7f93bc3f",
   "metadata": {
    "execution": {
     "iopub.execute_input": "2023-11-25T01:54:47.846036Z",
     "iopub.status.busy": "2023-11-25T01:54:47.845413Z",
     "iopub.status.idle": "2023-11-25T01:54:47.860568Z",
     "shell.execute_reply": "2023-11-25T01:54:47.859631Z"
    },
    "papermill": {
     "duration": 0.027926,
     "end_time": "2023-11-25T01:54:47.862630",
     "exception": false,
     "start_time": "2023-11-25T01:54:47.834704",
     "status": "completed"
    },
    "tags": []
   },
   "outputs": [
    {
     "data": {
      "text/html": [
       "<div>\n",
       "<style scoped>\n",
       "    .dataframe tbody tr th:only-of-type {\n",
       "        vertical-align: middle;\n",
       "    }\n",
       "\n",
       "    .dataframe tbody tr th {\n",
       "        vertical-align: top;\n",
       "    }\n",
       "\n",
       "    .dataframe thead th {\n",
       "        text-align: right;\n",
       "    }\n",
       "</style>\n",
       "<table border=\"1\" class=\"dataframe\">\n",
       "  <thead>\n",
       "    <tr style=\"text-align: right;\">\n",
       "      <th></th>\n",
       "      <th>ID</th>\n",
       "      <th>pclass</th>\n",
       "      <th>survived</th>\n",
       "      <th>sex</th>\n",
       "      <th>age</th>\n",
       "      <th>sibsp</th>\n",
       "      <th>parch</th>\n",
       "      <th>fare</th>\n",
       "      <th>cabin</th>\n",
       "      <th>embarked</th>\n",
       "      <th>boat</th>\n",
       "      <th>body</th>\n",
       "      <th>home.dest</th>\n",
       "      <th>age_rand</th>\n",
       "    </tr>\n",
       "  </thead>\n",
       "  <tbody>\n",
       "    <tr>\n",
       "      <th>0</th>\n",
       "      <td>401</td>\n",
       "      <td>3</td>\n",
       "      <td>0</td>\n",
       "      <td>male</td>\n",
       "      <td>56</td>\n",
       "      <td>0</td>\n",
       "      <td>0</td>\n",
       "      <td>8.0500</td>\n",
       "      <td>NaN</td>\n",
       "      <td>S</td>\n",
       "      <td>NaN</td>\n",
       "      <td>NaN</td>\n",
       "      <td>NaN</td>\n",
       "      <td>56.05001</td>\n",
       "    </tr>\n",
       "    <tr>\n",
       "      <th>1</th>\n",
       "      <td>402</td>\n",
       "      <td>3</td>\n",
       "      <td>1</td>\n",
       "      <td>female</td>\n",
       "      <td>22</td>\n",
       "      <td>1</td>\n",
       "      <td>0</td>\n",
       "      <td>13.9000</td>\n",
       "      <td>NaN</td>\n",
       "      <td>S</td>\n",
       "      <td>16</td>\n",
       "      <td>NaN</td>\n",
       "      <td>West Haven, CT</td>\n",
       "      <td>18.79447</td>\n",
       "    </tr>\n",
       "    <tr>\n",
       "      <th>2</th>\n",
       "      <td>403</td>\n",
       "      <td>3</td>\n",
       "      <td>0</td>\n",
       "      <td>male</td>\n",
       "      <td>45</td>\n",
       "      <td>0</td>\n",
       "      <td>0</td>\n",
       "      <td>7.3125</td>\n",
       "      <td>NaN</td>\n",
       "      <td>S</td>\n",
       "      <td>NaN</td>\n",
       "      <td>NaN</td>\n",
       "      <td>NaN</td>\n",
       "      <td>45.40557</td>\n",
       "    </tr>\n",
       "    <tr>\n",
       "      <th>3</th>\n",
       "      <td>404</td>\n",
       "      <td>3</td>\n",
       "      <td>0</td>\n",
       "      <td>male</td>\n",
       "      <td>28</td>\n",
       "      <td>2</td>\n",
       "      <td>0</td>\n",
       "      <td>7.9250</td>\n",
       "      <td>NaN</td>\n",
       "      <td>S</td>\n",
       "      <td>NaN</td>\n",
       "      <td>NaN</td>\n",
       "      <td>Ruotsinphytaa, Finland New York, NY</td>\n",
       "      <td>24.11669</td>\n",
       "    </tr>\n",
       "    <tr>\n",
       "      <th>4</th>\n",
       "      <td>405</td>\n",
       "      <td>3</td>\n",
       "      <td>0</td>\n",
       "      <td>male</td>\n",
       "      <td>19</td>\n",
       "      <td>0</td>\n",
       "      <td>0</td>\n",
       "      <td>6.8583</td>\n",
       "      <td>NaN</td>\n",
       "      <td>Q</td>\n",
       "      <td>NaN</td>\n",
       "      <td>NaN</td>\n",
       "      <td>NaN</td>\n",
       "      <td>18.79447</td>\n",
       "    </tr>\n",
       "  </tbody>\n",
       "</table>\n",
       "</div>"
      ],
      "text/plain": [
       "    ID  pclass  survived     sex  age  sibsp  parch     fare cabin embarked  \\\n",
       "0  401       3         0    male   56      0      0   8.0500   NaN        S   \n",
       "1  402       3         1  female   22      1      0  13.9000   NaN        S   \n",
       "2  403       3         0    male   45      0      0   7.3125   NaN        S   \n",
       "3  404       3         0    male   28      2      0   7.9250   NaN        S   \n",
       "4  405       3         0    male   19      0      0   6.8583   NaN        Q   \n",
       "\n",
       "  boat  body                            home.dest  age_rand  \n",
       "0  NaN   NaN                                  NaN  56.05001  \n",
       "1   16   NaN                       West Haven, CT  18.79447  \n",
       "2  NaN   NaN                                  NaN  45.40557  \n",
       "3  NaN   NaN  Ruotsinphytaa, Finland New York, NY  24.11669  \n",
       "4  NaN   NaN                                  NaN  18.79447  "
      ]
     },
     "execution_count": 14,
     "metadata": {},
     "output_type": "execute_result"
    }
   ],
   "source": [
    "train.head()"
   ]
  },
  {
   "cell_type": "markdown",
   "id": "ed708b0a",
   "metadata": {
    "papermill": {
     "duration": 0.010322,
     "end_time": "2023-11-25T01:54:47.942641",
     "exception": false,
     "start_time": "2023-11-25T01:54:47.932319",
     "status": "completed"
    },
    "tags": []
   },
   "source": [
    "## Non-numerik ke numerik"
   ]
  },
  {
   "cell_type": "code",
   "execution_count": 15,
   "id": "cfc22692",
   "metadata": {
    "execution": {
     "iopub.execute_input": "2023-11-25T01:54:47.965687Z",
     "iopub.status.busy": "2023-11-25T01:54:47.965307Z",
     "iopub.status.idle": "2023-11-25T01:54:47.972637Z",
     "shell.execute_reply": "2023-11-25T01:54:47.971332Z"
    },
    "papermill": {
     "duration": 0.021319,
     "end_time": "2023-11-25T01:54:47.974680",
     "exception": false,
     "start_time": "2023-11-25T01:54:47.953361",
     "status": "completed"
    },
    "tags": []
   },
   "outputs": [],
   "source": [
    "# Gender\n",
    "genders = {'male': 1, 'female': 0}\n",
    "train['sex'] = train['sex'].apply(lambda s: genders.get(s))\n",
    "test['sex'] = test['sex'].apply(lambda s: genders.get(s))"
   ]
  },
  {
   "cell_type": "code",
   "execution_count": 16,
   "id": "65915305",
   "metadata": {
    "execution": {
     "iopub.execute_input": "2023-11-25T01:54:47.997804Z",
     "iopub.status.busy": "2023-11-25T01:54:47.997430Z",
     "iopub.status.idle": "2023-11-25T01:54:48.003920Z",
     "shell.execute_reply": "2023-11-25T01:54:48.003320Z"
    },
    "papermill": {
     "duration": 0.021176,
     "end_time": "2023-11-25T01:54:48.006257",
     "exception": false,
     "start_time": "2023-11-25T01:54:47.985081",
     "status": "completed"
    },
    "tags": []
   },
   "outputs": [],
   "source": [
    "# Embarkment\n",
    "embarkments = {'U': 0, 'S': 1, 'C': 2, 'Q': 3}\n",
    "train['embarked'] = train['embarked'].apply(lambda e: embarkments.get(e))\n",
    "test['embarked'] = test['embarked'].apply(lambda e: embarkments.get(e))"
   ]
  },
  {
   "cell_type": "markdown",
   "id": "a6475164",
   "metadata": {
    "papermill": {
     "duration": 0.010157,
     "end_time": "2023-11-25T01:54:48.026965",
     "exception": false,
     "start_time": "2023-11-25T01:54:48.016808",
     "status": "completed"
    },
    "tags": []
   },
   "source": [
    "Tes"
   ]
  },
  {
   "cell_type": "code",
   "execution_count": 17,
   "id": "f1547e08",
   "metadata": {
    "execution": {
     "iopub.execute_input": "2023-11-25T01:54:48.049183Z",
     "iopub.status.busy": "2023-11-25T01:54:48.048818Z",
     "iopub.status.idle": "2023-11-25T01:54:48.079106Z",
     "shell.execute_reply": "2023-11-25T01:54:48.078417Z"
    },
    "papermill": {
     "duration": 0.04378,
     "end_time": "2023-11-25T01:54:48.080888",
     "exception": false,
     "start_time": "2023-11-25T01:54:48.037108",
     "status": "completed"
    },
    "tags": []
   },
   "outputs": [
    {
     "data": {
      "text/html": [
       "<div>\n",
       "<style scoped>\n",
       "    .dataframe tbody tr th:only-of-type {\n",
       "        vertical-align: middle;\n",
       "    }\n",
       "\n",
       "    .dataframe tbody tr th {\n",
       "        vertical-align: top;\n",
       "    }\n",
       "\n",
       "    .dataframe thead th {\n",
       "        text-align: right;\n",
       "    }\n",
       "</style>\n",
       "<table border=\"1\" class=\"dataframe\">\n",
       "  <thead>\n",
       "    <tr style=\"text-align: right;\">\n",
       "      <th></th>\n",
       "      <th>survived</th>\n",
       "      <th>pclass</th>\n",
       "      <th>sibsp</th>\n",
       "      <th>parch</th>\n",
       "      <th>embarked</th>\n",
       "      <th>fare</th>\n",
       "      <th>age</th>\n",
       "      <th>sex</th>\n",
       "    </tr>\n",
       "  </thead>\n",
       "  <tbody>\n",
       "    <tr>\n",
       "      <th>count</th>\n",
       "      <td>909.000000</td>\n",
       "      <td>909.000000</td>\n",
       "      <td>909.000000</td>\n",
       "      <td>909.000000</td>\n",
       "      <td>909.000000</td>\n",
       "      <td>909.000000</td>\n",
       "      <td>909.000000</td>\n",
       "      <td>909.000000</td>\n",
       "    </tr>\n",
       "    <tr>\n",
       "      <th>mean</th>\n",
       "      <td>0.376238</td>\n",
       "      <td>2.292629</td>\n",
       "      <td>0.488449</td>\n",
       "      <td>0.353135</td>\n",
       "      <td>1.409241</td>\n",
       "      <td>33.040335</td>\n",
       "      <td>30.456546</td>\n",
       "      <td>0.655666</td>\n",
       "    </tr>\n",
       "    <tr>\n",
       "      <th>std</th>\n",
       "      <td>0.484707</td>\n",
       "      <td>0.839656</td>\n",
       "      <td>1.089158</td>\n",
       "      <td>0.780858</td>\n",
       "      <td>0.660198</td>\n",
       "      <td>53.234366</td>\n",
       "      <td>14.544612</td>\n",
       "      <td>0.475412</td>\n",
       "    </tr>\n",
       "    <tr>\n",
       "      <th>min</th>\n",
       "      <td>0.000000</td>\n",
       "      <td>1.000000</td>\n",
       "      <td>0.000000</td>\n",
       "      <td>0.000000</td>\n",
       "      <td>1.000000</td>\n",
       "      <td>0.000000</td>\n",
       "      <td>0.000000</td>\n",
       "      <td>0.000000</td>\n",
       "    </tr>\n",
       "    <tr>\n",
       "      <th>25%</th>\n",
       "      <td>0.000000</td>\n",
       "      <td>2.000000</td>\n",
       "      <td>0.000000</td>\n",
       "      <td>0.000000</td>\n",
       "      <td>1.000000</td>\n",
       "      <td>7.895800</td>\n",
       "      <td>21.000000</td>\n",
       "      <td>0.000000</td>\n",
       "    </tr>\n",
       "    <tr>\n",
       "      <th>50%</th>\n",
       "      <td>0.000000</td>\n",
       "      <td>3.000000</td>\n",
       "      <td>0.000000</td>\n",
       "      <td>0.000000</td>\n",
       "      <td>1.000000</td>\n",
       "      <td>14.400000</td>\n",
       "      <td>29.000000</td>\n",
       "      <td>1.000000</td>\n",
       "    </tr>\n",
       "    <tr>\n",
       "      <th>75%</th>\n",
       "      <td>1.000000</td>\n",
       "      <td>3.000000</td>\n",
       "      <td>1.000000</td>\n",
       "      <td>0.000000</td>\n",
       "      <td>2.000000</td>\n",
       "      <td>31.000000</td>\n",
       "      <td>39.000000</td>\n",
       "      <td>1.000000</td>\n",
       "    </tr>\n",
       "    <tr>\n",
       "      <th>max</th>\n",
       "      <td>1.000000</td>\n",
       "      <td>3.000000</td>\n",
       "      <td>8.000000</td>\n",
       "      <td>6.000000</td>\n",
       "      <td>3.000000</td>\n",
       "      <td>512.329200</td>\n",
       "      <td>80.000000</td>\n",
       "      <td>1.000000</td>\n",
       "    </tr>\n",
       "  </tbody>\n",
       "</table>\n",
       "</div>"
      ],
      "text/plain": [
       "         survived      pclass       sibsp       parch    embarked        fare  \\\n",
       "count  909.000000  909.000000  909.000000  909.000000  909.000000  909.000000   \n",
       "mean     0.376238    2.292629    0.488449    0.353135    1.409241   33.040335   \n",
       "std      0.484707    0.839656    1.089158    0.780858    0.660198   53.234366   \n",
       "min      0.000000    1.000000    0.000000    0.000000    1.000000    0.000000   \n",
       "25%      0.000000    2.000000    0.000000    0.000000    1.000000    7.895800   \n",
       "50%      0.000000    3.000000    0.000000    0.000000    1.000000   14.400000   \n",
       "75%      1.000000    3.000000    1.000000    0.000000    2.000000   31.000000   \n",
       "max      1.000000    3.000000    8.000000    6.000000    3.000000  512.329200   \n",
       "\n",
       "              age         sex  \n",
       "count  909.000000  909.000000  \n",
       "mean    30.456546    0.655666  \n",
       "std     14.544612    0.475412  \n",
       "min      0.000000    0.000000  \n",
       "25%     21.000000    0.000000  \n",
       "50%     29.000000    1.000000  \n",
       "75%     39.000000    1.000000  \n",
       "max     80.000000    1.000000  "
      ]
     },
     "execution_count": 17,
     "metadata": {},
     "output_type": "execute_result"
    }
   ],
   "source": [
    "train = train.loc[:,['survived', 'pclass', 'sibsp', 'parch', 'embarked', 'fare', 'age', 'sex']]\n",
    "train.describe()"
   ]
  },
  {
   "cell_type": "code",
   "execution_count": 18,
   "id": "d662b43c",
   "metadata": {
    "execution": {
     "iopub.execute_input": "2023-11-25T01:54:48.104177Z",
     "iopub.status.busy": "2023-11-25T01:54:48.103764Z",
     "iopub.status.idle": "2023-11-25T01:54:48.111278Z",
     "shell.execute_reply": "2023-11-25T01:54:48.110411Z"
    },
    "papermill": {
     "duration": 0.02201,
     "end_time": "2023-11-25T01:54:48.113714",
     "exception": false,
     "start_time": "2023-11-25T01:54:48.091704",
     "status": "completed"
    },
    "tags": []
   },
   "outputs": [
    {
     "data": {
      "text/plain": [
       "0      0\n",
       "1      1\n",
       "2      0\n",
       "3      0\n",
       "4      0\n",
       "      ..\n",
       "904    0\n",
       "905    0\n",
       "906    1\n",
       "907    0\n",
       "908    0\n",
       "Name: survived, Length: 909, dtype: int64"
      ]
     },
     "execution_count": 18,
     "metadata": {},
     "output_type": "execute_result"
    }
   ],
   "source": [
    "train['survived']"
   ]
  },
  {
   "cell_type": "code",
   "execution_count": 19,
   "id": "a990f806",
   "metadata": {
    "execution": {
     "iopub.execute_input": "2023-11-25T01:54:48.136924Z",
     "iopub.status.busy": "2023-11-25T01:54:48.136546Z",
     "iopub.status.idle": "2023-11-25T01:54:48.151148Z",
     "shell.execute_reply": "2023-11-25T01:54:48.150439Z"
    },
    "papermill": {
     "duration": 0.02881,
     "end_time": "2023-11-25T01:54:48.153438",
     "exception": false,
     "start_time": "2023-11-25T01:54:48.124628",
     "status": "completed"
    },
    "tags": []
   },
   "outputs": [],
   "source": [
    "scaler = MinMaxScaler()\n",
    "columns = ['pclass', 'sibsp', 'parch', 'embarked', 'fare', 'age', 'sex']\n",
    "\n",
    "# Normalisasi pada data pelatihan\n",
    "train_scaled = pd.DataFrame(scaler.fit_transform(train[columns]), columns=columns)\n",
    "train_scaled['survived'] = train['survived']\n",
    "\n",
    "# Normalisasi pada data uji menggunakan scaler yang sama dengan yang digunakan pada data pelatihan\n",
    "test_scaled = pd.DataFrame(scaler.transform(test[columns]), columns=columns)"
   ]
  },
  {
   "cell_type": "markdown",
   "id": "6553b436",
   "metadata": {
    "papermill": {
     "duration": 0.010598,
     "end_time": "2023-11-25T01:54:48.176151",
     "exception": false,
     "start_time": "2023-11-25T01:54:48.165553",
     "status": "completed"
    },
    "tags": []
   },
   "source": [
    "## Heatmap"
   ]
  },
  {
   "cell_type": "code",
   "execution_count": 20,
   "id": "5082f67d",
   "metadata": {
    "execution": {
     "iopub.execute_input": "2023-11-25T01:54:48.200166Z",
     "iopub.status.busy": "2023-11-25T01:54:48.199784Z",
     "iopub.status.idle": "2023-11-25T01:54:48.630051Z",
     "shell.execute_reply": "2023-11-25T01:54:48.629263Z"
    },
    "papermill": {
     "duration": 0.445014,
     "end_time": "2023-11-25T01:54:48.631955",
     "exception": false,
     "start_time": "2023-11-25T01:54:48.186941",
     "status": "completed"
    },
    "tags": []
   },
   "outputs": [
    {
     "data": {
      "image/png": "[encoded data removed]",
      "text/plain": [
       "<Figure size 1000x1000 with 2 Axes>"
      ]
     },
     "metadata": {},
     "output_type": "display_data"
    }
   ],
   "source": [
    "plt.subplots(figsize = (10,10))\n",
    "data = train.loc[:,['survived','pclass', 'sibsp', 'parch', 'embarked', 'fare', 'age', 'sex']]\n",
    "sns.heatmap(data.corr(),\n",
    "            annot=True,\n",
    "            cmap = 'RdBu_r',\n",
    "            linewidths=0.1, \n",
    "            linecolor='white',\n",
    "            square=True)\n",
    "plt.title(\"Correlations Among Features\", y = 1.03,fontsize = 20)\n",
    "plt.show()"
   ]
  },
  {
   "cell_type": "markdown",
   "id": "3a926a81",
   "metadata": {
    "papermill": {
     "duration": 0.011692,
     "end_time": "2023-11-25T01:54:48.657754",
     "exception": false,
     "start_time": "2023-11-25T01:54:48.646062",
     "status": "completed"
    },
    "tags": []
   },
   "source": [
    "## Split Data"
   ]
  },
  {
   "cell_type": "code",
   "execution_count": 21,
   "id": "56b86eab",
   "metadata": {
    "execution": {
     "iopub.execute_input": "2023-11-25T01:54:48.683342Z",
     "iopub.status.busy": "2023-11-25T01:54:48.682947Z",
     "iopub.status.idle": "2023-11-25T01:54:48.690053Z",
     "shell.execute_reply": "2023-11-25T01:54:48.689339Z"
    },
    "papermill": {
     "duration": 0.02221,
     "end_time": "2023-11-25T01:54:48.691751",
     "exception": false,
     "start_time": "2023-11-25T01:54:48.669541",
     "status": "completed"
    },
    "tags": []
   },
   "outputs": [
    {
     "data": {
      "text/plain": [
       "pclass      0\n",
       "sibsp       0\n",
       "parch       0\n",
       "embarked    0\n",
       "fare        0\n",
       "age         0\n",
       "sex         0\n",
       "survived    0\n",
       "dtype: int64"
      ]
     },
     "execution_count": 21,
     "metadata": {},
     "output_type": "execute_result"
    }
   ],
   "source": [
    "train_scaled.isnull().sum()"
   ]
  },
  {
   "cell_type": "code",
   "execution_count": 22,
   "id": "7ebc995b",
   "metadata": {
    "execution": {
     "iopub.execute_input": "2023-11-25T01:54:48.723226Z",
     "iopub.status.busy": "2023-11-25T01:54:48.722833Z",
     "iopub.status.idle": "2023-11-25T01:54:48.728827Z",
     "shell.execute_reply": "2023-11-25T01:54:48.728048Z"
    },
    "papermill": {
     "duration": 0.026947,
     "end_time": "2023-11-25T01:54:48.731549",
     "exception": false,
     "start_time": "2023-11-25T01:54:48.704602",
     "status": "completed"
    },
    "tags": []
   },
   "outputs": [],
   "source": [
    "train_data, valid_data = train_test_split(train_scaled, test_size=0.2)\n"
   ]
  },
  {
   "cell_type": "code",
   "execution_count": 23,
   "id": "646b7648",
   "metadata": {
    "execution": {
     "iopub.execute_input": "2023-11-25T01:54:48.765102Z",
     "iopub.status.busy": "2023-11-25T01:54:48.763485Z",
     "iopub.status.idle": "2023-11-25T01:54:48.776157Z",
     "shell.execute_reply": "2023-11-25T01:54:48.775170Z"
    },
    "papermill": {
     "duration": 0.032194,
     "end_time": "2023-11-25T01:54:48.778774",
     "exception": false,
     "start_time": "2023-11-25T01:54:48.746580",
     "status": "completed"
    },
    "tags": []
   },
   "outputs": [],
   "source": [
    "X_train = train_data.loc[:,['pclass', 'sibsp', 'parch', 'embarked', 'fare', 'age', 'sex']]\n",
    "X_valid = valid_data.loc[:,['pclass', 'sibsp', 'parch', 'embarked', 'fare', 'age', 'sex']]\n",
    "X_test = test_scaled.loc[:,['pclass', 'sibsp', 'parch', 'embarked', 'fare', 'age', 'sex']]\n",
    "\n",
    "y_train = train_data.loc[:,['survived']]\n",
    "y_valid = valid_data.loc[:,['survived']]"
   ]
  },
  {
   "cell_type": "code",
   "execution_count": 24,
   "id": "f5a2afa0",
   "metadata": {
    "execution": {
     "iopub.execute_input": "2023-11-25T01:54:48.804233Z",
     "iopub.status.busy": "2023-11-25T01:54:48.803825Z",
     "iopub.status.idle": "2023-11-25T01:54:48.832342Z",
     "shell.execute_reply": "2023-11-25T01:54:48.831335Z"
    },
    "papermill": {
     "duration": 0.044048,
     "end_time": "2023-11-25T01:54:48.834602",
     "exception": false,
     "start_time": "2023-11-25T01:54:48.790554",
     "status": "completed"
    },
    "tags": []
   },
   "outputs": [
    {
     "data": {
      "text/html": [
       "<div>\n",
       "<style scoped>\n",
       "    .dataframe tbody tr th:only-of-type {\n",
       "        vertical-align: middle;\n",
       "    }\n",
       "\n",
       "    .dataframe tbody tr th {\n",
       "        vertical-align: top;\n",
       "    }\n",
       "\n",
       "    .dataframe thead th {\n",
       "        text-align: right;\n",
       "    }\n",
       "</style>\n",
       "<table border=\"1\" class=\"dataframe\">\n",
       "  <thead>\n",
       "    <tr style=\"text-align: right;\">\n",
       "      <th></th>\n",
       "      <th>pclass</th>\n",
       "      <th>sibsp</th>\n",
       "      <th>parch</th>\n",
       "      <th>embarked</th>\n",
       "      <th>fare</th>\n",
       "      <th>age</th>\n",
       "      <th>sex</th>\n",
       "    </tr>\n",
       "  </thead>\n",
       "  <tbody>\n",
       "    <tr>\n",
       "      <th>count</th>\n",
       "      <td>727.000000</td>\n",
       "      <td>727.000000</td>\n",
       "      <td>727.000000</td>\n",
       "      <td>727.000000</td>\n",
       "      <td>727.000000</td>\n",
       "      <td>727.000000</td>\n",
       "      <td>727.000000</td>\n",
       "    </tr>\n",
       "    <tr>\n",
       "      <th>mean</th>\n",
       "      <td>0.649243</td>\n",
       "      <td>0.063274</td>\n",
       "      <td>0.056625</td>\n",
       "      <td>0.196699</td>\n",
       "      <td>0.064020</td>\n",
       "      <td>0.382565</td>\n",
       "      <td>0.658872</td>\n",
       "    </tr>\n",
       "    <tr>\n",
       "      <th>std</th>\n",
       "      <td>0.418342</td>\n",
       "      <td>0.138223</td>\n",
       "      <td>0.126022</td>\n",
       "      <td>0.325399</td>\n",
       "      <td>0.105983</td>\n",
       "      <td>0.178158</td>\n",
       "      <td>0.474415</td>\n",
       "    </tr>\n",
       "    <tr>\n",
       "      <th>min</th>\n",
       "      <td>0.000000</td>\n",
       "      <td>0.000000</td>\n",
       "      <td>0.000000</td>\n",
       "      <td>0.000000</td>\n",
       "      <td>0.000000</td>\n",
       "      <td>0.000000</td>\n",
       "      <td>0.000000</td>\n",
       "    </tr>\n",
       "    <tr>\n",
       "      <th>25%</th>\n",
       "      <td>0.500000</td>\n",
       "      <td>0.000000</td>\n",
       "      <td>0.000000</td>\n",
       "      <td>0.000000</td>\n",
       "      <td>0.015412</td>\n",
       "      <td>0.268750</td>\n",
       "      <td>0.000000</td>\n",
       "    </tr>\n",
       "    <tr>\n",
       "      <th>50%</th>\n",
       "      <td>1.000000</td>\n",
       "      <td>0.000000</td>\n",
       "      <td>0.000000</td>\n",
       "      <td>0.000000</td>\n",
       "      <td>0.028213</td>\n",
       "      <td>0.362500</td>\n",
       "      <td>1.000000</td>\n",
       "    </tr>\n",
       "    <tr>\n",
       "      <th>75%</th>\n",
       "      <td>1.000000</td>\n",
       "      <td>0.125000</td>\n",
       "      <td>0.000000</td>\n",
       "      <td>0.500000</td>\n",
       "      <td>0.061045</td>\n",
       "      <td>0.487500</td>\n",
       "      <td>1.000000</td>\n",
       "    </tr>\n",
       "    <tr>\n",
       "      <th>max</th>\n",
       "      <td>1.000000</td>\n",
       "      <td>1.000000</td>\n",
       "      <td>1.000000</td>\n",
       "      <td>1.000000</td>\n",
       "      <td>1.000000</td>\n",
       "      <td>1.000000</td>\n",
       "      <td>1.000000</td>\n",
       "    </tr>\n",
       "  </tbody>\n",
       "</table>\n",
       "</div>"
      ],
      "text/plain": [
       "           pclass       sibsp       parch    embarked        fare         age  \\\n",
       "count  727.000000  727.000000  727.000000  727.000000  727.000000  727.000000   \n",
       "mean     0.649243    0.063274    0.056625    0.196699    0.064020    0.382565   \n",
       "std      0.418342    0.138223    0.126022    0.325399    0.105983    0.178158   \n",
       "min      0.000000    0.000000    0.000000    0.000000    0.000000    0.000000   \n",
       "25%      0.500000    0.000000    0.000000    0.000000    0.015412    0.268750   \n",
       "50%      1.000000    0.000000    0.000000    0.000000    0.028213    0.362500   \n",
       "75%      1.000000    0.125000    0.000000    0.500000    0.061045    0.487500   \n",
       "max      1.000000    1.000000    1.000000    1.000000    1.000000    1.000000   \n",
       "\n",
       "              sex  \n",
       "count  727.000000  \n",
       "mean     0.658872  \n",
       "std      0.474415  \n",
       "min      0.000000  \n",
       "25%      0.000000  \n",
       "50%      1.000000  \n",
       "75%      1.000000  \n",
       "max      1.000000  "
      ]
     },
     "execution_count": 24,
     "metadata": {},
     "output_type": "execute_result"
    }
   ],
   "source": [
    "X_train.describe()"
   ]
  },
  {
   "cell_type": "code",
   "execution_count": 25,
   "id": "046e83bd",
   "metadata": {
    "execution": {
     "iopub.execute_input": "2023-11-25T01:54:48.860456Z",
     "iopub.status.busy": "2023-11-25T01:54:48.860063Z",
     "iopub.status.idle": "2023-11-25T01:54:48.882894Z",
     "shell.execute_reply": "2023-11-25T01:54:48.882141Z"
    },
    "papermill": {
     "duration": 0.037954,
     "end_time": "2023-11-25T01:54:48.884658",
     "exception": false,
     "start_time": "2023-11-25T01:54:48.846704",
     "status": "completed"
    },
    "tags": []
   },
   "outputs": [
    {
     "data": {
      "text/html": [
       "<div>\n",
       "<style scoped>\n",
       "    .dataframe tbody tr th:only-of-type {\n",
       "        vertical-align: middle;\n",
       "    }\n",
       "\n",
       "    .dataframe tbody tr th {\n",
       "        vertical-align: top;\n",
       "    }\n",
       "\n",
       "    .dataframe thead th {\n",
       "        text-align: right;\n",
       "    }\n",
       "</style>\n",
       "<table border=\"1\" class=\"dataframe\">\n",
       "  <thead>\n",
       "    <tr style=\"text-align: right;\">\n",
       "      <th></th>\n",
       "      <th>pclass</th>\n",
       "      <th>sibsp</th>\n",
       "      <th>parch</th>\n",
       "      <th>embarked</th>\n",
       "      <th>fare</th>\n",
       "      <th>age</th>\n",
       "      <th>sex</th>\n",
       "    </tr>\n",
       "  </thead>\n",
       "  <tbody>\n",
       "    <tr>\n",
       "      <th>count</th>\n",
       "      <td>182.000000</td>\n",
       "      <td>182.000000</td>\n",
       "      <td>182.000000</td>\n",
       "      <td>182.000000</td>\n",
       "      <td>182.000000</td>\n",
       "      <td>182.000000</td>\n",
       "      <td>182.000000</td>\n",
       "    </tr>\n",
       "    <tr>\n",
       "      <th>mean</th>\n",
       "      <td>0.634615</td>\n",
       "      <td>0.052198</td>\n",
       "      <td>0.067766</td>\n",
       "      <td>0.236264</td>\n",
       "      <td>0.066369</td>\n",
       "      <td>0.373283</td>\n",
       "      <td>0.642857</td>\n",
       "    </tr>\n",
       "    <tr>\n",
       "      <th>std</th>\n",
       "      <td>0.426679</td>\n",
       "      <td>0.127484</td>\n",
       "      <td>0.145482</td>\n",
       "      <td>0.347371</td>\n",
       "      <td>0.095411</td>\n",
       "      <td>0.196054</td>\n",
       "      <td>0.480479</td>\n",
       "    </tr>\n",
       "    <tr>\n",
       "      <th>min</th>\n",
       "      <td>0.000000</td>\n",
       "      <td>0.000000</td>\n",
       "      <td>0.000000</td>\n",
       "      <td>0.000000</td>\n",
       "      <td>0.000000</td>\n",
       "      <td>0.000000</td>\n",
       "      <td>0.000000</td>\n",
       "    </tr>\n",
       "    <tr>\n",
       "      <th>25%</th>\n",
       "      <td>0.000000</td>\n",
       "      <td>0.000000</td>\n",
       "      <td>0.000000</td>\n",
       "      <td>0.000000</td>\n",
       "      <td>0.015387</td>\n",
       "      <td>0.237500</td>\n",
       "      <td>0.000000</td>\n",
       "    </tr>\n",
       "    <tr>\n",
       "      <th>50%</th>\n",
       "      <td>1.000000</td>\n",
       "      <td>0.000000</td>\n",
       "      <td>0.000000</td>\n",
       "      <td>0.000000</td>\n",
       "      <td>0.025862</td>\n",
       "      <td>0.362500</td>\n",
       "      <td>1.000000</td>\n",
       "    </tr>\n",
       "    <tr>\n",
       "      <th>75%</th>\n",
       "      <td>1.000000</td>\n",
       "      <td>0.125000</td>\n",
       "      <td>0.000000</td>\n",
       "      <td>0.500000</td>\n",
       "      <td>0.059819</td>\n",
       "      <td>0.493750</td>\n",
       "      <td>1.000000</td>\n",
       "    </tr>\n",
       "    <tr>\n",
       "      <th>max</th>\n",
       "      <td>1.000000</td>\n",
       "      <td>1.000000</td>\n",
       "      <td>0.833333</td>\n",
       "      <td>1.000000</td>\n",
       "      <td>0.513342</td>\n",
       "      <td>0.900000</td>\n",
       "      <td>1.000000</td>\n",
       "    </tr>\n",
       "  </tbody>\n",
       "</table>\n",
       "</div>"
      ],
      "text/plain": [
       "           pclass       sibsp       parch    embarked        fare         age  \\\n",
       "count  182.000000  182.000000  182.000000  182.000000  182.000000  182.000000   \n",
       "mean     0.634615    0.052198    0.067766    0.236264    0.066369    0.373283   \n",
       "std      0.426679    0.127484    0.145482    0.347371    0.095411    0.196054   \n",
       "min      0.000000    0.000000    0.000000    0.000000    0.000000    0.000000   \n",
       "25%      0.000000    0.000000    0.000000    0.000000    0.015387    0.237500   \n",
       "50%      1.000000    0.000000    0.000000    0.000000    0.025862    0.362500   \n",
       "75%      1.000000    0.125000    0.000000    0.500000    0.059819    0.493750   \n",
       "max      1.000000    1.000000    0.833333    1.000000    0.513342    0.900000   \n",
       "\n",
       "              sex  \n",
       "count  182.000000  \n",
       "mean     0.642857  \n",
       "std      0.480479  \n",
       "min      0.000000  \n",
       "25%      0.000000  \n",
       "50%      1.000000  \n",
       "75%      1.000000  \n",
       "max      1.000000  "
      ]
     },
     "execution_count": 25,
     "metadata": {},
     "output_type": "execute_result"
    }
   ],
   "source": [
    "X_valid.describe()"
   ]
  },
  {
   "cell_type": "markdown",
   "id": "454c0d3d",
   "metadata": {
    "papermill": {
     "duration": 0.011754,
     "end_time": "2023-11-25T01:54:48.908538",
     "exception": false,
     "start_time": "2023-11-25T01:54:48.896784",
     "status": "completed"
    },
    "tags": []
   },
   "source": [
    "# Tree"
   ]
  },
  {
   "cell_type": "code",
   "execution_count": 26,
   "id": "37ca7589",
   "metadata": {
    "execution": {
     "iopub.execute_input": "2023-11-25T01:54:48.934894Z",
     "iopub.status.busy": "2023-11-25T01:54:48.934380Z",
     "iopub.status.idle": "2023-11-25T01:54:49.286762Z",
     "shell.execute_reply": "2023-11-25T01:54:49.284436Z"
    },
    "papermill": {
     "duration": 0.368648,
     "end_time": "2023-11-25T01:54:49.289292",
     "exception": false,
     "start_time": "2023-11-25T01:54:48.920644",
     "status": "completed"
    },
    "tags": []
   },
   "outputs": [
    {
     "name": "stdout",
     "output_type": "stream",
     "text": [
      "  depth      train accuracy      valid accuracy   \n",
      "    1            0.773               0.846        \n",
      "    2            0.786               0.791        \n",
      "    3            0.795               0.862        \n",
      "    4            0.806               0.769        \n",
      "    5            0.828               0.835        \n",
      "    6            0.840               0.824        \n",
      "    7            0.854               0.857        \n",
      "    8            0.873               0.840        \n",
      "    9            0.885               0.802        \n",
      "    10           0.909               0.818        \n",
      "    11           0.929               0.791        \n",
      "    12           0.935               0.829        \n",
      "    13           0.940               0.829        \n",
      "    14           0.949               0.824        \n",
      "    15           0.955               0.807        \n",
      "    16           0.961               0.818        \n",
      "    17           0.966               0.824        \n",
      "    18           0.968               0.829        \n",
      "    19           0.969               0.829        \n",
      "    20           0.969               0.824        \n",
      "    21           0.971               0.818        \n",
      "    22           0.971               0.818        \n",
      "    23           0.971               0.813        \n",
      "    24           0.972               0.813        \n",
      "    25           0.972               0.813        \n",
      "    26           0.973               0.824        \n",
      "    27           0.975               0.813        \n",
      "    28           0.976               0.818        \n",
      "    29           0.976               0.818        \n",
      "    30           0.976               0.818        \n"
     ]
    }
   ],
   "source": [
    "print('{:^10}{:^20}{:^20}'.format('depth', 'train accuracy', 'valid accuracy'))\n",
    "best_depth = 0\n",
    "best_accuracy_valid = 0\n",
    "\n",
    "for i in range(1, 31):\n",
    "    clf = tree.DecisionTreeClassifier(criterion=\"entropy\", max_depth=i)\n",
    "    clf = clf.fit(X_train, y_train)  # Pastikan X_train dan y_train memiliki jumlah sampel yang sesuai\n",
    "    y_pred_train = clf.predict(X_train)\n",
    "    accuracy_train = accuracy_score(y_train, y_pred_train)\n",
    "    \n",
    "    y_pred_valid = clf.predict(X_valid)\n",
    "    accuracy_valid = accuracy_score(y_valid, y_pred_valid)\n",
    "    \n",
    "    print('{:^10}{:^20.5}{:^20.5}'.format(str(i), str(accuracy_train), str(accuracy_valid)))\n",
    "    \n",
    "    if accuracy_valid > best_accuracy_valid:\n",
    "        best_accuracy_valid = accuracy_valid\n",
    "        best_depth = i\n"
   ]
  },
  {
   "cell_type": "code",
   "execution_count": 27,
   "id": "191f5e3a",
   "metadata": {
    "execution": {
     "iopub.execute_input": "2023-11-25T01:54:49.316480Z",
     "iopub.status.busy": "2023-11-25T01:54:49.316097Z",
     "iopub.status.idle": "2023-11-25T01:54:49.327861Z",
     "shell.execute_reply": "2023-11-25T01:54:49.326480Z"
    },
    "papermill": {
     "duration": 0.028872,
     "end_time": "2023-11-25T01:54:49.330368",
     "exception": false,
     "start_time": "2023-11-25T01:54:49.301496",
     "status": "completed"
    },
    "tags": []
   },
   "outputs": [],
   "source": [
    "# Create Decision Tree classifer object\n",
    "clf = tree.DecisionTreeClassifier(criterion=\"entropy\", max_depth=best_depth)\n",
    "\n",
    "# Train Decision Tree Classifer\n",
    "clf = clf.fit(X_train, y_train)\n",
    "\n",
    "#Predict the response for test dataset\n",
    "y_pred = clf.predict(X_test)\n",
    "\n",
    "# Model Accuracy, how often is the classifier correct?\n",
    "# print(\"Accuracy:\", metrics.accuracy_score(y_test, y_pred))"
   ]
  },
  {
   "cell_type": "code",
   "execution_count": 28,
   "id": "a0775a66",
   "metadata": {
    "execution": {
     "iopub.execute_input": "2023-11-25T01:54:49.357096Z",
     "iopub.status.busy": "2023-11-25T01:54:49.356432Z",
     "iopub.status.idle": "2023-11-25T01:54:50.031071Z",
     "shell.execute_reply": "2023-11-25T01:54:50.030049Z"
    },
    "papermill": {
     "duration": 0.69105,
     "end_time": "2023-11-25T01:54:50.033740",
     "exception": false,
     "start_time": "2023-11-25T01:54:49.342690",
     "status": "completed"
    },
    "tags": []
   },
   "outputs": [
    {
     "data": {
      "image/png": "[encoded data removed]",
      "text/plain": [
       "<IPython.core.display.Image object>"
      ]
     },
     "execution_count": 28,
     "metadata": {},
     "output_type": "execute_result"
    }
   ],
   "source": [
    "dot_data = StringIO()\n",
    "tree.export_graphviz(clf, out_file=dot_data,\n",
    "                filled=True, rounded=True,\n",
    "                special_characters=True, feature_names = columns, class_names=['Died', 'Survived'])\n",
    "graph = pydotplus.graph_from_dot_data(dot_data.getvalue())\n",
    "graph.write_png('titanic_2.png')\n",
    "Image(graph.create_png())"
   ]
  },
  {
   "cell_type": "markdown",
   "id": "4bfdf97b",
   "metadata": {
    "papermill": {
     "duration": 0.014185,
     "end_time": "2023-11-25T01:54:50.062521",
     "exception": false,
     "start_time": "2023-11-25T01:54:50.048336",
     "status": "completed"
    },
    "tags": []
   },
   "source": [
    "# Impor CSV"
   ]
  },
  {
   "cell_type": "code",
   "execution_count": 29,
   "id": "19b57424",
   "metadata": {
    "execution": {
     "iopub.execute_input": "2023-11-25T01:54:50.095830Z",
     "iopub.status.busy": "2023-11-25T01:54:50.094707Z",
     "iopub.status.idle": "2023-11-25T01:54:50.106328Z",
     "shell.execute_reply": "2023-11-25T01:54:50.104838Z"
    },
    "papermill": {
     "duration": 0.030516,
     "end_time": "2023-11-25T01:54:50.108810",
     "exception": false,
     "start_time": "2023-11-25T01:54:50.078294",
     "status": "completed"
    },
    "tags": []
   },
   "outputs": [],
   "source": [
    "test['survived'] = y_pred\n",
    "columns_to_export = ['ID', 'survived']\n",
    "export_data = test[columns_to_export]\n",
    "export_data.to_csv('coba_submit.csv', index=False)"
   ]
  }
 ],
 "metadata": {
  "kaggle": {
   "accelerator": "none",
   "dataSources": [
    {
     "databundleVersionId": 7118081,
     "sourceId": 64776,
     "sourceType": "competition"
    }
   ],
   "dockerImageVersionId": 30587,
   "isGpuEnabled": false,
   "isInternetEnabled": true,
   "language": "python",
   "sourceType": "notebook"
  },
  "kernelspec": {
   "display_name": "Python 3",
   "language": "python",
   "name": "python3"
  },
  "language_info": {
   "codemirror_mode": {
    "name": "ipython",
    "version": 3
   },
   "file_extension": ".py",
   "mimetype": "text/x-python",
   "name": "python",
   "nbconvert_exporter": "python",
   "pygments_lexer": "ipython3",
   "version": "3.10.12"
  },
  "papermill": {
   "default_parameters": {},
   "duration": 21.786798,
   "end_time": "2023-11-25T01:54:50.744669",
   "environment_variables": {},
   "exception": null,
   "input_path": "__notebook__.ipynb",
   "output_path": "__notebook__.ipynb",
   "parameters": {},
   "start_time": "2023-11-25T01:54:28.957871",
   "version": "2.4.0"
  }
 },
 "nbformat": 4,
 "nbformat_minor": 5
}
